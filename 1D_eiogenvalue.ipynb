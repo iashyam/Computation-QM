{
  "nbformat": 4,
  "nbformat_minor": 0,
  "metadata": {
    "colab": {
      "name": "1D-eiogenvalue.ipynb",
      "provenance": [],
      "collapsed_sections": [],
      "include_colab_link": true
    },
    "kernelspec": {
      "name": "python3",
      "display_name": "Python 3"
    },
    "language_info": {
      "name": "python"
    }
  },
  "cells": [
    {
      "cell_type": "markdown",
      "metadata": {
        "id": "view-in-github",
        "colab_type": "text"
      },
      "source": [
        "<a href=\"https://colab.research.google.com/github/iashyam/Computation-QM/blob/main/1D_eiogenvalue.ipynb\" target=\"_parent\"><img src=\"https://colab.research.google.com/assets/colab-badge.svg\" alt=\"Open In Colab\"/></a>"
      ]
    },
    {
      "cell_type": "code",
      "metadata": {
        "id": "Y8m07-X2iRkX"
      },
      "source": [
        "import numpy as np\n",
        "import math\n",
        "import matplotlib.pyplot as plt\n",
        "import numpy.linalg as lin\n",
        "\n",
        "plt.style.use('seaborn-whitegrid')\n",
        "\n",
        "%matplotlib inline"
      ],
      "execution_count": 1,
      "outputs": []
    },
    {
      "cell_type": "markdown",
      "metadata": {
        "id": "l-ZkDxNNlEAe"
      },
      "source": [
        "## Infinte Square Well \n",
        "\\begin{equation}\n",
        "V(x) = \n",
        "\\begin{cases}\n",
        "0 && if && 0<x<a \\\\\n",
        "\\infty && elsewhere\n",
        "\\end{cases}\n",
        "\\end{equation}\n",
        "\n",
        "The natural length scale here is the width of well $a$.\n",
        "And natural energy scale turn out to be $\\dfrac{\\hbar^2}{2ma^2}$"
      ]
    },
    {
      "cell_type": "markdown",
      "metadata": {
        "id": "P2LJuUmTe76s"
      },
      "source": [
        "$$H_{i,j} = -\\frac{1}{\\Delta^2}(\\delta_{i+1,j} + \\delta_{i-1,j} - \\delta_{1,j}) + V(\\Delta i)*\\delta_{i,j}$$\n",
        "\n",
        "$y$  $\\epsilon$ $[0,1]$"
      ]
    },
    {
      "cell_type": "code",
      "metadata": {
        "id": "qkyrMXX8Hicp"
      },
      "source": [
        "n = 400 #number of states we want to know\n",
        "y = np.linspace(0,1,2*n)\n",
        "Delta = y[1]-y[0]"
      ],
      "execution_count": 21,
      "outputs": []
    },
    {
      "cell_type": "code",
      "metadata": {
        "id": "hUZhxaPBgLrW"
      },
      "source": [
        "def k(i,j):\n",
        "    return 1 if i==j else 0\n",
        "\n",
        "def V(x):\n",
        "    return 0\n"
      ],
      "execution_count": 3,
      "outputs": []
    },
    {
      "cell_type": "code",
      "metadata": {
        "id": "tjtCfiDBgT5A"
      },
      "source": [
        "def Hemiltonian(i,j):\n",
        "    return (-1/Delta**2)*(k(i+1,j)+k(i-1,j)-2*k(i,j)) + V(Delta*i)*k(i,j)"
      ],
      "execution_count": 4,
      "outputs": []
    },
    {
      "cell_type": "code",
      "metadata": {
        "id": "WTbfHA8liYCB"
      },
      "source": [
        "H = np.array([[Hemiltonian(i,j) for i in range(-n,n)] for j in range(-n,n)])"
      ],
      "execution_count": 5,
      "outputs": []
    },
    {
      "cell_type": "code",
      "metadata": {
        "id": "5IdqwV0UgVpu"
      },
      "source": [
        "eval, evac = lin.eig(H)"
      ],
      "execution_count": 6,
      "outputs": []
    },
    {
      "cell_type": "code",
      "metadata": {
        "id": "LPhAswWShDFg"
      },
      "source": [
        "sort_eval = np.sort(eval)"
      ],
      "execution_count": 7,
      "outputs": []
    },
    {
      "cell_type": "code",
      "metadata": {
        "id": "zwpd_gT0hGxv"
      },
      "source": [
        "idx = eval.argsort()\n",
        "eval = eval[idx]\n",
        "evac = evac[:,idx]\n",
        "psi1 = evac[:,0]\n",
        "psi2 = evac[:,2]\n",
        "psi3 = evac[:,3]\n",
        "\n",
        "potential = 0.1*np.array([V(Delta*i) for i in range(-n,n)])"
      ],
      "execution_count": 18,
      "outputs": []
    },
    {
      "cell_type": "code",
      "metadata": {
        "id": "Yim4cT940qPA",
        "colab": {
          "base_uri": "https://localhost:8080/",
          "height": 279
        },
        "outputId": "9cebc9f1-4a62-45d2-ede4-cc5ac6ae3241"
      },
      "source": [
        "# plt.plot(y,psi1)\n",
        "plt.plot(y,psi2)\n",
        "# plt.plot(y,psi3)\n",
        "plt.plot(y, potential)"
      ],
      "execution_count": 19,
      "outputs": [
        {
          "output_type": "execute_result",
          "data": {
            "text/plain": [
              "[<matplotlib.lines.Line2D at 0x7f64721e99d0>]"
            ]
          },
          "metadata": {
            "tags": []
          },
          "execution_count": 19
        },
        {
          "output_type": "display_data",
          "data": {
            "image/png": "[encoded data removed]",
            "text/plain": [
              "<Figure size 432x288 with 1 Axes>"
            ]
          },
          "metadata": {
            "tags": [],
            "needs_background": "light"
          }
        }
      ]
    },
    {
      "cell_type": "code",
      "metadata": {
        "colab": {
          "base_uri": "https://localhost:8080/"
        },
        "id": "UsMIgAThR3J8",
        "outputId": "8bd876ea-e096-4eb8-ff1f-7698e957eb54"
      },
      "source": [
        "print(eval[0])\n",
        "print((math.pi)**2)\n"
      ],
      "execution_count": 20,
      "outputs": [
        {
          "output_type": "stream",
          "text": [
            "9.820366929289406\n",
            "9.869604401089358\n"
          ],
          "name": "stdout"
        }
      ]
    },
    {
      "cell_type": "code",
      "metadata": {
        "id": "0rinEhJWo6FY"
      },
      "source": [
        ""
      ],
      "execution_count": null,
      "outputs": []
    }
  ]
}