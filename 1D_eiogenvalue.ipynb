{
  "nbformat": 4,
  "nbformat_minor": 0,
  "metadata": {
    "colab": {
      "name": "1D-eiogenvalue.ipynb",
      "provenance": [],
      "collapsed_sections": [],
      "include_colab_link": true
    },
    "kernelspec": {
      "name": "python3",
      "display_name": "Python 3"
    },
    "language_info": {
      "name": "python"
    }
  },
  "cells": [
    {
      "cell_type": "markdown",
      "metadata": {
        "id": "view-in-github",
        "colab_type": "text"
      },
      "source": [
        "<a href=\"https://colab.research.google.com/github/iashyam/Computation-QM/blob/main/1D_eiogenvalue.ipynb\" target=\"_parent\"><img src=\"https://colab.research.google.com/assets/colab-badge.svg\" alt=\"Open In Colab\"/></a>"
      ]
    },
    {
      "cell_type": "code",
      "metadata": {
        "id": "Y8m07-X2iRkX"
      },
      "source": [
        "import numpy as np\n",
        "import math\n",
        "import matplotlib.pyplot as plt\n",
        "import numpy.linalg as lin\n",
        "\n",
        "plt.style.use('seaborn-whitegrid')\n",
        "\n",
        "%matplotlib inline"
      ],
      "execution_count": 2,
      "outputs": []
    },
    {
      "cell_type": "markdown",
      "metadata": {
        "id": "l-ZkDxNNlEAe"
      },
      "source": [
        "#### Square Well Potential\n",
        "\\begin{equation}\n",
        "V(x) = \n",
        "\\begin{cases}\n",
        "-10 && if && |x|<a \\\\\n",
        "0 && elsewhere\n",
        "\\end{cases}\n",
        "\\end{equation}\n",
        "\n",
        "The natural length scale here is the width of well $a$.\n",
        "And natural energy scale turn out to be $\\dfrac{\\hbar^2}{2ma^2}$\n",
        "\n",
        "#### Harmonic Osicalltor potential\n",
        "\n",
        "$$V(y) = y^2$$\n",
        "\n",
        "Natural length scale here is $\\hbar\\omega/2$ and natural length scale here is $l_0 = \\sqrt{\\frac{\\hbar}{m\\omega}}$\n",
        "\n",
        "#### Hygrogen Atom Radial Equation\n",
        "\n",
        "\\begin{equation}\n",
        "\\frac{d^2 u }{dr^2} = \\frac{2\\mu}{\\hbar}\\left(V(r) - E\\right)u\n",
        "\\end{equation}\n",
        "\n",
        "Taking ground state energy $E_0 = -13.6eV$ as natural energy scale and $l_o = \\sqrt{\\frac{\\hbar^2}{2mE_0}}$ as natural length scale we get \n",
        "\n",
        "$\\mathcal{U}(y) = - \\dfrac{ke^2}{l_0 E_0}\\dfrac{1}{y}$\n",
        "\n"
      ]
    },
    {
      "cell_type": "markdown",
      "metadata": {
        "id": "P2LJuUmTe76s"
      },
      "source": [
        "$$H_{i,j} = -\\frac{1}{\\Delta^2}(\\delta_{i+1,j} + \\delta_{i-1,j} - \\delta_{1,j}) + V(\\Delta i)*\\delta_{i,j}$$\n",
        "\n",
        "$y$  $\\epsilon$ $[0,1]$"
      ]
    },
    {
      "cell_type": "code",
      "metadata": {
        "id": "qkyrMXX8Hicp"
      },
      "source": [
        "n = 400 #number of states we want to know\n",
        "y = np.linspace(-6,6,2*n)\n",
        "Delta = y[1]-y[0]"
      ],
      "execution_count": 27,
      "outputs": []
    },
    {
      "cell_type": "code",
      "metadata": {
        "id": "hUZhxaPBgLrW"
      },
      "source": [
        "def k(i,j): #kronekar delta function\n",
        "    return 1 if i==j else 0\n",
        "\n",
        "def V(x):\n",
        "    # return x**2 #for harmonic potential\n",
        "    return -50 if abs(x)<1 else 0 #for square well\n",
        "    # return (-k*e**2/l0) *(1/x) # for hygrogen atom "
      ],
      "execution_count": 39,
      "outputs": []
    },
    {
      "cell_type": "code",
      "metadata": {
        "id": "tjtCfiDBgT5A"
      },
      "source": [
        "def Hemiltonian(i,j):\n",
        "    return (-1/Delta**2)*(k(i+1,j)+k(i-1,j)-2*k(i,j)) + V(Delta*i)*k(i,j)"
      ],
      "execution_count": 68,
      "outputs": []
    },
    {
      "cell_type": "code",
      "metadata": {
        "id": "WTbfHA8liYCB",
        "colab": {
          "base_uri": "https://localhost:8080/"
        },
        "outputId": "d3ee93fe-9744-4d13-9df6-adf19541a378"
      },
      "source": [
        "H = np.array([[Hemiltonian(i,j) for i in range(-n,n)] for j in range(-n,n)])\n",
        "len(range(1,n))"
      ],
      "execution_count": 69,
      "outputs": [
        {
          "output_type": "execute_result",
          "data": {
            "text/plain": [
              "99"
            ]
          },
          "metadata": {},
          "execution_count": 69
        }
      ]
    },
    {
      "cell_type": "code",
      "metadata": {
        "id": "5IdqwV0UgVpu"
      },
      "source": [
        "eval, evac = lin.eig(H)"
      ],
      "execution_count": 80,
      "outputs": []
    },
    {
      "cell_type": "code",
      "metadata": {
        "id": "LPhAswWShDFg"
      },
      "source": [
        "sort_eval = np.sort(eval)"
      ],
      "execution_count": 71,
      "outputs": []
    },
    {
      "cell_type": "code",
      "metadata": {
        "id": "zwpd_gT0hGxv"
      },
      "source": [
        "idx = eval.argsort()\n",
        "eval = eval[idx]\n",
        "evac = evac[:,idx]\n",
        "psi1 = evac[:,1]\n",
        "psi2 = evac[:,2]\n",
        "psi0 = evac[:,0]\n",
        "\n",
        "potential = 0.006*np.array([V(Delta*i) for i in range(1,n)])"
      ],
      "execution_count": 72,
      "outputs": []
    },
    {
      "cell_type": "code",
      "metadata": {
        "id": "Yim4cT940qPA",
        "colab": {
          "base_uri": "https://localhost:8080/",
          "height": 291
        },
        "outputId": "bb5758e8-fd7f-45a5-f591-3a24b84984c7"
      },
      "source": [
        "plt.plot(y,psi1, label=\"n=1\")\n",
        "# plt.plot(y,psi2, label=\"n=2\")\n",
        "# plt.plot(y,psi0, label=\"n=0\")\n",
        "# plt.plot(y, potential, label=\"Potential\")\n",
        "plt.ylabel(r'$\\Psi$')\n",
        "plt.xlabel('x')\n",
        "plt.title('Wave function for Particle in a box')\n",
        "plt.legend();"
      ],
      "execution_count": 75,
      "outputs": [
        {
          "output_type": "display_data",
          "data": {
            "image/png": "[encoded data removed]",
            "text/plain": [
              "<Figure size 432x288 with 1 Axes>"
            ]
          },
          "metadata": {
            "needs_background": "light"
          }
        }
      ]
    },
    {
      "cell_type": "code",
      "metadata": {
        "colab": {
          "base_uri": "https://localhost:8080/"
        },
        "id": "UsMIgAThR3J8",
        "outputId": "9418c4e9-ed98-4385-a94e-14a34ad3ee54"
      },
      "source": [
        "print(eval[0])"
      ],
      "execution_count": 13,
      "outputs": [
        {
          "output_type": "stream",
          "name": "stdout",
          "text": [
            "2.9993638658266395\n"
          ]
        }
      ]
    },
    {
      "cell_type": "code",
      "metadata": {
        "id": "0rinEhJWo6FY"
      },
      "source": [
        ""
      ],
      "execution_count": 13,
      "outputs": []
    },
    {
      "cell_type": "markdown",
      "metadata": {
        "id": "540lD2uK2P_f"
      },
      "source": [
        "## Double Potential well\n",
        "\n",
        "Let's say we have double potential well as\n",
        "\n",
        "\\begin{equation}\n",
        "V(x) = \\begin{cases}\n",
        "V_1 & \\frac{b}{2} < x < \\frac{a}{2} \\\\\n",
        "V_2 &  0< x <\\frac{b}{2} \\\\\n",
        "V(-x) & x<0\n",
        "\\end{cases}\n",
        "\\end{equation}"
      ]
    },
    {
      "cell_type": "code",
      "metadata": {
        "id": "e85e8PnI3iBV"
      },
      "source": [
        "a = 2\n",
        "b = 1\n",
        "def V(x):\n",
        "    V1 = -10\n",
        "    V2 = -5\n",
        "    if abs(x) > b/2 and abs(x) < a/2:\n",
        "        return V1\n",
        "    elif abs(x) < b/2:\n",
        "        return V2\n",
        "    else:\n",
        "        return 0"
      ],
      "execution_count": null,
      "outputs": []
    },
    {
      "cell_type": "code",
      "metadata": {
        "id": "agzR8EJl4BP-"
      },
      "source": [
        "n = 1000 #number of states we want to know\n",
        "y = np.linspace(-2,2,2*n)\n",
        "Delta = y[1]-y[0]"
      ],
      "execution_count": null,
      "outputs": []
    },
    {
      "cell_type": "code",
      "metadata": {
        "id": "TFVfOQl55CVT"
      },
      "source": [
        "H = np.array([[Hemiltonian(i,j) for i in range(-n,n)] for j in range(-n,n)])"
      ],
      "execution_count": null,
      "outputs": []
    },
    {
      "cell_type": "code",
      "metadata": {
        "id": "ob_kXLwI4Zsp"
      },
      "source": [
        "eval, evac = lin.eig(H)"
      ],
      "execution_count": null,
      "outputs": []
    },
    {
      "cell_type": "code",
      "metadata": {
        "id": "m3jkzseN4nyN"
      },
      "source": [
        "idx = eval.argsort()\n",
        "eval = eval[idx]\n",
        "evac = evac[:,idx]\n",
        "psi1 = evac[:,1]\n",
        "psi2 = evac[:,2]\n",
        "psi0 = evac[:,0]\n",
        "\n",
        "potential = 0.006*np.array([V(Delta*i) for i in range(-n,n)])"
      ],
      "execution_count": null,
      "outputs": []
    },
    {
      "cell_type": "code",
      "metadata": {
        "colab": {
          "base_uri": "https://localhost:8080/",
          "height": 279
        },
        "id": "CNhbfiyd4sjX",
        "outputId": "f61f4f04-5e27-436f-9bdd-52ee2f02e3db"
      },
      "source": [
        "plt.plot(y,psi0, label=\"n=0\")\n",
        "plt.plot(y, potential, label=\"Potential\")\n",
        "plt.legend()"
      ],
      "execution_count": null,
      "outputs": [
        {
          "output_type": "execute_result",
          "data": {
            "text/plain": [
              "<matplotlib.legend.Legend at 0x7f31a5047cd0>"
            ]
          },
          "metadata": {},
          "execution_count": 16
        },
        {
          "output_type": "display_data",
          "data": {
            "image/png": "[encoded data removed]",
            "text/plain": [
              "<Figure size 432x288 with 1 Axes>"
            ]
          },
          "metadata": {
            "needs_background": "light"
          }
        }
      ]
    },
    {
      "cell_type": "code",
      "metadata": {
        "colab": {
          "base_uri": "https://localhost:8080/"
        },
        "id": "g4pI4U_F4zsR",
        "outputId": "bf1151fd-7b18-4c59-e957-7b8b8c1debda"
      },
      "source": [
        "eval[1]"
      ],
      "execution_count": null,
      "outputs": [
        {
          "output_type": "execute_result",
          "data": {
            "text/plain": [
              "-3.5692471115960975"
            ]
          },
          "metadata": {},
          "execution_count": 17
        }
      ]
    },
    {
      "cell_type": "markdown",
      "metadata": {
        "id": "v25qjrDTUk15"
      },
      "source": [
        "### Lennard Jones Potential\n",
        "\n",
        "\\begin{equation}\n",
        "V(x) = a\\left(\\frac{x^2 - b^2}{b^2}\\right)^2\n",
        "\\end{equation}\n",
        "\n",
        "I am taking $a$ as natuarl energy salce and $l_0 = \\sqrt{\\dfrac{\\hbar^2}{2ma^2}}$ as natural length scale\n"
      ]
    },
    {
      "cell_type": "code",
      "metadata": {
        "id": "7Jjl8J18KNLJ"
      },
      "source": [
        "import numpy as np\n",
        "import math\n",
        "import matplotlib.pyplot as plt\n",
        "import numpy.linalg as lin"
      ],
      "execution_count": 46,
      "outputs": []
    },
    {
      "cell_type": "code",
      "metadata": {
        "id": "hXKasQnV7pin"
      },
      "source": [
        "h = 6.67e-34 #plank constant\n",
        "hbar = h/math.pi\n",
        "qe = 1.6e-19 #chrage of electron\n",
        "m =9.1e-31 #mass of electron"
      ],
      "execution_count": 47,
      "outputs": []
    },
    {
      "cell_type": "code",
      "metadata": {
        "id": "hBZvpCcGyaIu"
      },
      "source": [
        "a = 10*qe"
      ],
      "execution_count": 50,
      "outputs": []
    },
    {
      "cell_type": "code",
      "metadata": {
        "id": "zyJSFm2Dyfma"
      },
      "source": [
        "b = 2e-10"
      ],
      "execution_count": 51,
      "outputs": []
    },
    {
      "cell_type": "code",
      "metadata": {
        "id": "v47Hybeey5l1"
      },
      "source": [
        "l0 =math.sqrt( hbar**2/(2*m*a))"
      ],
      "execution_count": 52,
      "outputs": []
    },
    {
      "cell_type": "code",
      "metadata": {
        "id": "ZV5gBpYdzAuP"
      },
      "source": [
        "def V(x):\n",
        "    return ((l0*x/b)**2-1)**2"
      ],
      "execution_count": 53,
      "outputs": []
    },
    {
      "cell_type": "code",
      "metadata": {
        "id": "65Wwk49VzMlF"
      },
      "source": [
        "n = 100 #number of states we want to know\n",
        "y = np.linspace(-3,3,2*n)\n",
        "Delta = y[1]-y[0]"
      ],
      "execution_count": 54,
      "outputs": []
    },
    {
      "cell_type": "code",
      "metadata": {
        "id": "4a4hKjjfzT2J"
      },
      "source": [
        "def k(i,j):\n",
        "    return 1 if i==j else 0\n",
        "\n",
        "def Hemiltonian(i,j):\n",
        "    return (-1/Delta**2)*(k(i+1,j)+k(i-1,j)-2*k(i,j)) + V(Delta*i)*k(i,j)\n",
        "    \n",
        "H = np.array([[Hemiltonian(i,j) for i in range(-n,n)] for j in range(-n,n)])"
      ],
      "execution_count": 55,
      "outputs": []
    },
    {
      "cell_type": "code",
      "metadata": {
        "id": "1JQN6p4hzWQS"
      },
      "source": [
        "eval, evac = lin.eig(H)"
      ],
      "execution_count": 56,
      "outputs": []
    },
    {
      "cell_type": "code",
      "metadata": {
        "id": "MmXXjqK8za79"
      },
      "source": [
        "idx = eval.argsort()\n",
        "eval = eval[idx]\n",
        "evac = evac[:,idx]\n",
        "psi1 = evac[:,1]\n",
        "psi2 = evac[:,2]\n",
        "psi0 = evac[:,0]\n",
        "\n"
      ],
      "execution_count": 57,
      "outputs": []
    },
    {
      "cell_type": "code",
      "metadata": {
        "colab": {
          "base_uri": "https://localhost:8080/",
          "height": 308
        },
        "id": "z-AwZdWOzey6",
        "outputId": "f669ac8b-fd3a-49b8-a69e-c72391cb013d"
      },
      "source": [
        "plt.plot(y,psi0, label=\"n=0\")\n",
        "plt.ylabel(r'$\\psi_1$')\n",
        "plt.xlabel(r'$x$')\n",
        "plt.title('First Excited State')"
      ],
      "execution_count": 59,
      "outputs": [
        {
          "output_type": "execute_result",
          "data": {
            "text/plain": [
              "Text(0.5, 1.0, 'First Excited State')"
            ]
          },
          "metadata": {},
          "execution_count": 59
        },
        {
          "output_type": "display_data",
          "data": {
            "image/png": "[encoded data removed]",
            "text/plain": [
              "<Figure size 432x288 with 1 Axes>"
            ]
          },
          "metadata": {
            "needs_background": "light"
          }
        }
      ]
    },
    {
      "cell_type": "code",
      "metadata": {
        "colab": {
          "base_uri": "https://localhost:8080/"
        },
        "id": "g5_T1jKczic1",
        "outputId": "712edf8f-03aa-41db-8bf5-d7190b25ecf1"
      },
      "source": [
        "eval[0]"
      ],
      "execution_count": 60,
      "outputs": [
        {
          "output_type": "execute_result",
          "data": {
            "text/plain": [
              "0.8251261941677884"
            ]
          },
          "metadata": {},
          "execution_count": 60
        }
      ]
    },
    {
      "cell_type": "code",
      "metadata": {
        "colab": {
          "base_uri": "https://localhost:8080/"
        },
        "id": "xk6TP6JUzpiQ",
        "outputId": "83b5308b-4c38-4eb0-a052-370da0a435f1"
      },
      "source": [
        "eval[1]\n",
        "eval[1]-eval[0]"
      ],
      "execution_count": 61,
      "outputs": [
        {
          "output_type": "execute_result",
          "data": {
            "text/plain": [
              "0.6435520524651223"
            ]
          },
          "metadata": {},
          "execution_count": 61
        }
      ]
    },
    {
      "cell_type": "code",
      "metadata": {
        "colab": {
          "base_uri": "https://localhost:8080/",
          "height": 308
        },
        "id": "o10hGWsNzrCv",
        "outputId": "da9e1aeb-a36a-479b-dbc9-e05b9f901d13"
      },
      "source": [
        "plt.plot(y, V(y))\n",
        "plt.ylabel(r'$V(x)$')\n",
        "plt.xlabel(r'$x$')\n",
        "plt.title('Potential')"
      ],
      "execution_count": 62,
      "outputs": [
        {
          "output_type": "execute_result",
          "data": {
            "text/plain": [
              "Text(0.5, 1.0, 'Potential')"
            ]
          },
          "metadata": {},
          "execution_count": 62
        },
        {
          "output_type": "display_data",
          "data": {
            "image/png": "[encoded data removed]",
            "text/plain": [
              "<Figure size 432x288 with 1 Axes>"
            ]
          },
          "metadata": {
            "needs_background": "light"
          }
        }
      ]
    },
    {
      "cell_type": "code",
      "metadata": {
        "id": "l12PQrAA0W8E"
      },
      "source": [
        "def Va(a):\n",
        "    h = 6.64e-34\n",
        "    qe = 1.6e-19\n",
        "    m = 9.1e-31\n",
        "    b = 2*1e-10\n",
        "    l0 =math.sqrt(h**2/(2*m*a*qe))\n",
        "    def f(x):\n",
        "        return ((l0*x/b)**2-1)**2\n",
        "    return f"
      ],
      "execution_count": 64,
      "outputs": []
    },
    {
      "cell_type": "code",
      "metadata": {
        "id": "YkPuSWBa4xGI"
      },
      "source": [
        "A_list =np.linspace(10,50,50)\n",
        "E_requard = []\n",
        "for a in A_list:\n",
        "    n = 100 \n",
        "    y = np.linspace(-3,3,2*n)\n",
        "    Delta = y[1]-y[0]\n",
        "    V = Va(a)\n",
        "    def Hemiltonian(i,j):\n",
        "        return (-1/Delta**2)*(k(i+1,j)+k(i-1,j)-2*k(i,j)) + V(Delta*i)*k(i,j)\n",
        "    H = np.array([[Hemiltonian(i,j) for i in range(-n,n)] for j in range(-n,n)])\n",
        "    eval, evac = lin.eig(H)\n",
        "    idx = eval.argsort()\n",
        "    eval = eval[idx]\n",
        "    E_requard.append(eval[1]-eval[0])"
      ],
      "execution_count": 65,
      "outputs": []
    },
    {
      "cell_type": "code",
      "metadata": {
        "colab": {
          "base_uri": "https://localhost:8080/",
          "height": 294
        },
        "id": "TuilEWie5f6B",
        "outputId": "04246184-046e-4ac3-fbd0-6dd2ed6eadf1"
      },
      "source": [
        "plt.plot(A_list,E_requard)\n",
        "plt.xlabel('a')\n",
        "plt.ylabel('E')"
      ],
      "execution_count": 76,
      "outputs": [
        {
          "output_type": "execute_result",
          "data": {
            "text/plain": [
              "Text(0, 0.5, 'E')"
            ]
          },
          "metadata": {},
          "execution_count": 76
        },
        {
          "output_type": "display_data",
          "data": {
            "image/png": "[encoded data removed]",
            "text/plain": [
              "<Figure size 432x288 with 1 Axes>"
            ]
          },
          "metadata": {
            "needs_background": "light"
          }
        }
      ]
    },
    {
      "cell_type": "markdown",
      "metadata": {
        "id": "wRCdQcHsWppI"
      },
      "source": [
        "## Hydrogen Atom"
      ]
    },
    {
      "cell_type": "code",
      "metadata": {
        "id": "ocT08yBrX77x"
      },
      "source": [
        "import numpy as np\n",
        "import math\n",
        "import matplotlib.pyplot as plt\n",
        "import numpy.linalg as lin"
      ],
      "execution_count": 76,
      "outputs": []
    },
    {
      "cell_type": "code",
      "metadata": {
        "colab": {
          "base_uri": "https://localhost:8080/"
        },
        "id": "dWu0CxxqSi1h",
        "outputId": "6bbff9c4-6106-4146-d04a-d2e0d6a59361"
      },
      "source": [
        "h = 6.62e-34 #plank constant\n",
        "hbar = h/2*math.pi\n",
        "m = 9.1e-31 #electron mass\n",
        "K = 9e9 #1/4pie \n",
        "e = 1.6e-19 #electron charge\n",
        "E0 = 13.6*e #ground state energy in joule\n",
        "\n",
        "l0 = math.sqrt((hbar**2)/(2*m*E0)) #natrual length scale\n",
        "b = (K*e**2)/(l0*E0)\n",
        "b"
      ],
      "execution_count": 94,
      "outputs": [
        {
          "output_type": "execute_result",
          "data": {
            "text/plain": [
              "0.20263331844755425"
            ]
          },
          "metadata": {},
          "execution_count": 94
        }
      ]
    },
    {
      "cell_type": "code",
      "metadata": {
        "id": "JRFm5p3YQFLW"
      },
      "source": [
        "n = 400 #number of states we want to know\n",
        "h = 0.01"
      ],
      "execution_count": 90,
      "outputs": []
    },
    {
      "cell_type": "code",
      "metadata": {
        "id": "WNMwl1TKW7Qe"
      },
      "source": [
        "def k(i,j): #kronekar delta function\n",
        "    return 1 if i==j else 0\n",
        "\n",
        "def V(x):\n",
        "    return - b/x  # for hygrogen atom "
      ],
      "execution_count": 100,
      "outputs": []
    },
    {
      "cell_type": "code",
      "metadata": {
        "id": "XicEiQmrXCpw"
      },
      "source": [
        "def Hemiltonian(i,j):\n",
        "    return (-1/Delta**2)*(k(i+1,j)+k(i-1,j)-2*k(i,j)) + V(Delta*i)*k(i,j)\n",
        "\n",
        "H = np.array([[Hemiltonian(i,j) for i in range(1,2*n+1)] for j in range(1,2*n+1)])\n",
        "ys = np.array([i*h for i in range(1,2*n+1)])\n",
        "eval, evac = lin.eig(H)\n",
        "sort_eval = np.sort(eval)\n",
        "idx = eval.argsort()\n",
        "eval = eval[idx]\n",
        "evac = evac[:,idx]\n",
        "psi1 = evac[:,1]\n",
        "psi2 = evac[:,2]\n",
        "psi0 = evac[:,0]\n"
      ],
      "execution_count": 101,
      "outputs": []
    },
    {
      "cell_type": "code",
      "metadata": {
        "colab": {
          "base_uri": "https://localhost:8080/",
          "height": 279
        },
        "id": "r9dDjLyuXdFz",
        "outputId": "afd27146-f8fa-4772-d88e-5e2f069a5679"
      },
      "source": [
        "potential = V(y)\n",
        "# plt.plot(y,psi1, label=\"n=1\")\n",
        "# plt.plot(y,psi2, label=\"n=2\")\n",
        "plt.plot(y,psi0, label=\"n=0\")\n",
        "# plt.plot(y,psi0/y, label='R')\n",
        "# plt.plot(y, potential, label=\"Potential\")\n",
        "plt.ylabel(r'$\\Psi$')\n",
        "plt.xlabel('x')\n",
        "plt.legend();"
      ],
      "execution_count": 106,
      "outputs": [
        {
          "output_type": "display_data",
          "data": {
            "image/png": "[encoded data removed]",
            "text/plain": [
              "<Figure size 432x288 with 1 Axes>"
            ]
          },
          "metadata": {
            "needs_background": "light"
          }
        }
      ]
    },
    {
      "cell_type": "code",
      "metadata": {
        "colab": {
          "base_uri": "https://localhost:8080/"
        },
        "id": "LHP1-joeYZht",
        "outputId": "ae2723dd-0f90-49d6-8b7b-d0fc47e6f86d"
      },
      "source": [
        "eval[2]"
      ],
      "execution_count": 103,
      "outputs": [
        {
          "output_type": "execute_result",
          "data": {
            "text/plain": [
              "0.23293420348368932"
            ]
          },
          "metadata": {},
          "execution_count": 103
        }
      ]
    },
    {
      "cell_type": "code",
      "metadata": {
        "id": "5DSm-5Dra6AE"
      },
      "source": [
        ""
      ],
      "execution_count": null,
      "outputs": []
    }
  ]
}