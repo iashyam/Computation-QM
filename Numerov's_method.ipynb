{
  "nbformat": 4,
  "nbformat_minor": 0,
  "metadata": {
    "colab": {
      "name": "Numerov's method.ipynb",
      "provenance": [],
      "authorship_tag": "ABX9TyOJuaaHm39ssYSxqva6ySyP",
      "include_colab_link": true
    },
    "kernelspec": {
      "name": "python3",
      "display_name": "Python 3"
    },
    "language_info": {
      "name": "python"
    }
  },
  "cells": [
    {
      "cell_type": "markdown",
      "metadata": {
        "id": "view-in-github",
        "colab_type": "text"
      },
      "source": [
        "<a href=\"https://colab.research.google.com/github/iashyam/Computation-QM/blob/main/Numerov's_method.ipynb\" target=\"_parent\"><img src=\"https://colab.research.google.com/assets/colab-badge.svg\" alt=\"Open In Colab\"/></a>"
      ]
    },
    {
      "cell_type": "code",
      "metadata": {
        "id": "daZRzB41nwDF"
      },
      "source": [
        "import math\n",
        "import numpy as np\n",
        "import matplotlib.pyplot as plt\n",
        "\n",
        "plt.style.use('seaborn-whitegrid')"
      ],
      "execution_count": 1,
      "outputs": []
    },
    {
      "cell_type": "markdown",
      "metadata": {
        "id": "ZzgjlLVP76fC"
      },
      "source": [
        "The Equation for Harmonic Potenital is\n",
        "\n",
        "\\begin{equation}\n",
        "-\\frac{\\hbar^2}{2m}\\frac{d^2 \\psi}{d x^2} + V(x)\\psi = E\\psi\n",
        "\\end{equation}\n",
        "\n",
        "### Dimensional Analysis\n",
        "\n",
        "Putting $ x = \\sqrt{\\frac{\\hbar}{m\\omega}}y$ and $\\mathcal{E} = \\frac{2E}{\\hbar\\omega}$ We get the dimessionless euqation\n",
        "\n",
        "\n",
        "Natural lenghth scale = $\\sqrt{\\frac{\\hbar}{m\\omega}}$\n",
        "Natural Energy Scale = $\\frac{\\hbar \\omega}{2}$"
      ]
    },
    {
      "cell_type": "markdown",
      "metadata": {
        "id": "1P_gdZ2W6aG4"
      },
      "source": [
        "\\begin{equation}\n",
        "\\frac{d^2  \\phi}{dy^2} + k(y)\\phi = 0\n",
        "\\end{equation}\n",
        "\n",
        "Where $$k(y) = \\mathcal{E}-y^2$$"
      ]
    },
    {
      "cell_type": "markdown",
      "metadata": {
        "id": "_nEDSjOz4PBs"
      },
      "source": [
        "### The Algorithm\n",
        "\\begin{equation}\n",
        "\\phi_{n+1} = \\frac{1}{1+\\frac{h^2}{12}k_{n+1}}\\left(2\\phi_n\\left(1 - \\frac{5h^2}{12}k_n\\right) - \\phi_{n-1}\\left(1+\\frac{h^2}{12}k_{n-1}\\right)\\right)\n",
        "\\end{equation}"
      ]
    },
    {
      "cell_type": "markdown",
      "metadata": {
        "id": "kFE7oUvD6Wby"
      },
      "source": [
        "## When you know the eigenvalue\n",
        "\n",
        "The we know the eigenvalue to be $e$."
      ]
    },
    {
      "cell_type": "code",
      "metadata": {
        "id": "G-5wsu5V6WEQ"
      },
      "source": [
        "#the k funciton\n",
        "\n",
        "n = 1 #nth excited state\n",
        "e = 2*n+1\n",
        "\n",
        "def k(y):\n",
        "    return e-y**2\n",
        "\n",
        "#definig the range\n",
        "y0 = -6\n",
        "yf = 6\n",
        "\n",
        "N = 500 #number of lattice point\n",
        "h = (yf-y0)/N\n",
        "\n",
        "#intial conditions\n",
        "phi0 = 0\n",
        "y1 = y0+h\n",
        "y2 = y1+h\n",
        "phi1 = 1e-8\n",
        "\n",
        "#lists to store data\n",
        "ys = [y0,y1]\n",
        "phis = [phi0,phi1]\n",
        "\n",
        "#the algorithm\n",
        "for step in range(N):\n",
        "    phi2 = (2*phi1*(1-(5*h**2/12)*k(y1))-phi0*(1+h**2*k(y0)/12))/(1+h**2*k(y2)/12)\n",
        "\n",
        "    phis.append(phi2)\n",
        "    ys.append(y2)\n",
        "\n",
        "    phi0 = phi1\n",
        "    phi1 = phi2\n",
        "\n",
        "    y0 = y1\n",
        "    y1 = y2\n",
        "    y2 += h"
      ],
      "execution_count": 2,
      "outputs": []
    },
    {
      "cell_type": "code",
      "metadata": {
        "colab": {
          "base_uri": "https://localhost:8080/",
          "height": 291
        },
        "id": "S_g8bsCB6Jjq",
        "outputId": "06c71ecd-e344-43e1-8a02-350729e1be76"
      },
      "source": [
        "plt.plot(ys,phis)\n",
        "plt.xlabel('y')\n",
        "plt.ylabel(r'$\\phi$')\n",
        "plt.title('Harmonic Oscillator-EigenStates');"
      ],
      "execution_count": 3,
      "outputs": [
        {
          "output_type": "display_data",
          "data": {
            "image/png": "[encoded data removed]",
            "text/plain": [
              "<Figure size 432x288 with 1 Axes>"
            ]
          },
          "metadata": {
            "needs_background": "light"
          }
        }
      ]
    },
    {
      "cell_type": "code",
      "metadata": {
        "id": "L-h9KHxg_ZFS"
      },
      "source": [
        "def bisection(f,start,end):\n",
        "    tol = 1e-2\n",
        "    max_iter = 100\n",
        "    count = 0\n",
        "    if f(start)*f(end)>0:\n",
        "        return None\n",
        "    else:\n",
        "        while count<max_iter and abs(end-start)>tol:\n",
        "            mid = (start+end)/2\n",
        "            if f(start)*f(mid)<0:\n",
        "                end = mid\n",
        "            else:\n",
        "                start = mid\n",
        "        return mid"
      ],
      "execution_count": 4,
      "outputs": []
    },
    {
      "cell_type": "code",
      "metadata": {
        "id": "lwQdb-Da_l8N"
      },
      "source": [
        "def eigen_states(n, space):\n",
        "    n = 1 #nth excited state\n",
        "    e = 2*n+1\n",
        "\n",
        "    global k\n",
        "\n",
        "    def k(y):\n",
        "        return e-y**2\n",
        "\n",
        "    #definig the range\n",
        "    y0 = space[0]\n",
        "    yf = space[1]\n",
        "\n",
        "    # N = 500 #number of lattice point\n",
        "    h = (yf-y0)/N\n",
        "\n",
        "    #intial conditions\n",
        "    phi0 = 0\n",
        "    y1 = y0+h\n",
        "    y2 = y1+h\n",
        "    phi1 = 1e-8\n",
        "\n",
        "    #lists to store data\n",
        "    ys = [y0,y1]\n",
        "    phis = [phi0,phi1]\n",
        "\n",
        "    #the algorithm\n",
        "    for step in range(N):\n",
        "        phi2 = (2*phi1*(1-(5*h**2/12)*k(y1))-phi0*(1+h**2*k(y0)/12))/(1+h**2*k(y2)/12)\n",
        "\n",
        "        phis.append(phi2)\n",
        "        ys.append(y2)\n",
        "\n",
        "        phi0 = phi1\n",
        "        phi1 = phi2\n",
        "\n",
        "        y0 = y1\n",
        "        y1 = y2\n",
        "        y2 += h\n",
        "\n",
        "    return np.array(ys),np.array(phis)"
      ],
      "execution_count": 5,
      "outputs": []
    },
    {
      "cell_type": "code",
      "metadata": {
        "colab": {
          "base_uri": "https://localhost:8080/",
          "height": 291
        },
        "id": "aVRxRYhz_qh5",
        "outputId": "931a3535-83c6-4288-f033-d0df1af3efb1"
      },
      "source": [
        "ys_left, phi_left = eigen_states(3,(-6,1))\n",
        "ys_right,phi_right = eigen_states(3,(6,1))\n",
        "\n",
        "\n",
        "#forced match\n",
        "phi_right = phi_right*phi_left[-1]/phi_right[-1]\n",
        "\n",
        "plt.plot(ys_right,phi_right,label='Right')\n",
        "plt.plot(ys_left,phi_left,label='Left')\n",
        "plt.xlabel('y')\n",
        "plt.ylabel(r'$\\phi$')\n",
        "plt.legend();\n",
        "plt.title('Harmonic Oscillator-EigenStates');"
      ],
      "execution_count": 6,
      "outputs": [
        {
          "output_type": "display_data",
          "data": {
            "image/png": "[encoded data removed]",
            "text/plain": [
              "<Figure size 432x288 with 1 Axes>"
            ]
          },
          "metadata": {
            "needs_background": "light"
          }
        }
      ]
    },
    {
      "cell_type": "markdown",
      "metadata": {
        "id": "f10iCfrAZG--"
      },
      "source": [
        "## When Eigen Values are unknown"
      ]
    },
    {
      "cell_type": "code",
      "metadata": {
        "id": "aPAVL0kQB6_9"
      },
      "source": [
        "def eigen_states2(e,space):\n",
        "\n",
        "    def k(x):\n",
        "        return e-x*x\n",
        "\n",
        "    y0 = space[0]\n",
        "    yf = space[1]\n",
        "\n",
        "    # N = 1000\n",
        "    global dy\n",
        "    dy = 0.01\n",
        "\n",
        "    if y0>yf:\n",
        "        dy *= -1\n",
        "\n",
        "    ys = np.arange(y0,yf,dy)\n",
        "    N = len(ys)\n",
        "    # print(N)\n",
        "    ks = k(ys)\n",
        "    phis= np.zeros(N)\n",
        "    phis[1] = 1e-8\n",
        "\n",
        "    for n in range(1,N-1):\n",
        "        phis[n+1] = (1/(1+dy**2*ks[n+1]/12))*(2*phis[n]*(1-5*dy**2*ks[n]/12)-phis[n-1]*(1+dy**2*ks[n-1]/12))\n",
        "\n",
        "    return ys,phis\n"
      ],
      "execution_count": 7,
      "outputs": []
    },
    {
      "cell_type": "code",
      "metadata": {
        "colab": {
          "base_uri": "https://localhost:8080/",
          "height": 291
        },
        "id": "rvKeSiBIEAtN",
        "outputId": "9d612891-509a-43e1-9ea9-98878a222e0f"
      },
      "source": [
        "e = 3\n",
        "tp = bisection(k,0,6)\n",
        "\n",
        "ys_left, phi_left = eigen_states2(3,(-6,tp))\n",
        "ys_right,phi_right = eigen_states2(3,(6,tp))\n",
        "\n",
        "#forced match\n",
        "phi_right = phi_right*phi_left[-1]/phi_right[-1]\n",
        "\n",
        "plt.plot(ys_right,phi_right,label='Right')\n",
        "plt.plot(ys_left,phi_left,label='Left')\n",
        "plt.xlabel('y')\n",
        "plt.ylabel(r'$\\phi$')\n",
        "plt.legend();\n",
        "plt.title('Harmonic Oscillator-EigenStates');"
      ],
      "execution_count": 8,
      "outputs": [
        {
          "output_type": "display_data",
          "data": {
            "image/png": "[encoded data removed]",
            "text/plain": [
              "<Figure size 432x288 with 1 Axes>"
            ]
          },
          "metadata": {
            "needs_background": "light"
          }
        }
      ]
    },
    {
      "cell_type": "markdown",
      "metadata": {
        "id": "9XMeHwOWevm_"
      },
      "source": [
        "### Calculating the eigen values"
      ]
    },
    {
      "cell_type": "markdown",
      "metadata": {
        "id": "aSPukaCDgCuT"
      },
      "source": [
        "If we give the function any wrong eigen value, we see a little kink there in the graph showing that the first derivative is not continioues at turning point, so we can use this to find the right eigen value. \n",
        "\n",
        "We need to find a value of e such that the first derivative from both sides is zero ie this function is zero.\n",
        "\n",
        "\\begin{equation}\n",
        "f(e) = \\frac{\\phi_R(t_p-h)-\\phi_L(t_p-h)}{\\phi_L(t_p)}\n",
        "\\end{equation}\n",
        "\n",
        "Where $t_p$ is the turning point."
      ]
    },
    {
      "cell_type": "code",
      "metadata": {
        "id": "WyQHvL9IEK3i"
      },
      "source": [
        "def f(e):\n",
        "    def k(x):\n",
        "        return e-x**2\n",
        "\n",
        "    tp = bisection(k,0,6)\n",
        "\n",
        "    ys_left, phi_left = eigen_states2(e,(-6,tp))\n",
        "    ys_right,phi_right = eigen_states2(e,(6,tp-dy))\n",
        "\n",
        "    #forced match\n",
        "    phi_right = phi_right*phi_left[-1]/phi_right[-2]\n",
        "    \n",
        "    return (phi_right[-1]-phi_left[-2])/phi_left[-1]\n"
      ],
      "execution_count": 9,
      "outputs": []
    },
    {
      "cell_type": "code",
      "metadata": {
        "id": "VmJs8ToyFF7B"
      },
      "source": [
        "def change_sign(f,seed):\n",
        "    ds = 0.01\n",
        "    s = seed+ds\n",
        "    max_iter = 1000\n",
        "    iter = 0\n",
        "    while f(s)*f(seed)>=0 and iter<max_iter:\n",
        "        s = s+ds\n",
        "    return s"
      ],
      "execution_count": 10,
      "outputs": []
    },
    {
      "cell_type": "code",
      "metadata": {
        "colab": {
          "base_uri": "https://localhost:8080/"
        },
        "id": "5ef3jRnCGu3n",
        "outputId": "1613eb23-a0a0-4be2-a797-2b3e1faa741c"
      },
      "source": [
        "Es = []\n",
        "dE = 0.1\n",
        "k1 = dE\n",
        "k2 = change_sign(f,dE)\n",
        "for _ in range(5):\n",
        "    E = bisection(f,k1,k2)\n",
        "    Es.append(E)\n",
        "    k1 = k2\n",
        "    k2 = change_sign(f,k1+dE)\n",
        "print(Es)\n"
      ],
      "execution_count": 11,
      "outputs": [
        {
          "output_type": "stream",
          "name": "stdout",
          "text": [
            "[1.0028906250000007, 1.344687500000001, 3.00351562499998, 3.3446874999999747, 5.003515624999942]\n"
          ]
        }
      ]
    },
    {
      "cell_type": "code",
      "metadata": {
        "colab": {
          "base_uri": "https://localhost:8080/",
          "height": 291
        },
        "id": "XK1CFl_fM95u",
        "outputId": "a6762059-dbca-4b6d-8a9d-f80f1f824b01"
      },
      "source": [
        "e = Es[4]\n",
        "\n",
        "def k(x):\n",
        "    return e-x**2\n",
        "\n",
        "tp = bisection(k,0,6)\n",
        "\n",
        "ys_left, phi_left = eigen_states2(e,(-6,tp))\n",
        "ys_right,phi_right = eigen_states2(e,(6,tp))\n",
        "\n",
        "#forced match\n",
        "phi_right = phi_right*phi_left[-1]/phi_right[-1]\n",
        "\n",
        "plt.plot(ys_right,phi_right,label='Right')\n",
        "plt.plot(ys_left,phi_left,label='Left')\n",
        "plt.xlabel('y')\n",
        "plt.ylabel(r'$\\phi$')\n",
        "plt.legend();\n",
        "plt.title('Harmonic Oscillator-EigenStates');"
      ],
      "execution_count": 12,
      "outputs": [
        {
          "output_type": "display_data",
          "data": {
            "image/png": "[encoded data removed]",
            "text/plain": [
              "<Figure size 432x288 with 1 Axes>"
            ]
          },
          "metadata": {
            "needs_background": "light"
          }
        }
      ]
    }
  ]
}