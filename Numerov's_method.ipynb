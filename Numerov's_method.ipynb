{
  "nbformat": 4,
  "nbformat_minor": 0,
  "metadata": {
    "colab": {
      "name": "Numerov's method.ipynb",
      "provenance": [],
      "authorship_tag": "ABX9TyOUYXKiLwYnD4JgJK8U7md9",
      "include_colab_link": true
    },
    "kernelspec": {
      "name": "python3",
      "display_name": "Python 3"
    },
    "language_info": {
      "name": "python"
    }
  },
  "cells": [
    {
      "cell_type": "markdown",
      "metadata": {
        "id": "view-in-github",
        "colab_type": "text"
      },
      "source": [
        "<a href=\"https://colab.research.google.com/github/iashyam/Computation-QM/blob/main/Numerov's_method.ipynb\" target=\"_parent\"><img src=\"https://colab.research.google.com/assets/colab-badge.svg\" alt=\"Open In Colab\"/></a>"
      ]
    },
    {
      "cell_type": "markdown",
      "metadata": {
        "id": "P2KVKrbejGw3"
      },
      "source": [
        "# Numerov's Algorithm For finding EigenStates"
      ]
    },
    {
      "cell_type": "code",
      "metadata": {
        "id": "daZRzB41nwDF"
      },
      "source": [
        "import math\n",
        "import numpy as np\n",
        "import matplotlib.pyplot as plt\n",
        "\n",
        "plt.style.use('seaborn-whitegrid')"
      ],
      "execution_count": null,
      "outputs": []
    },
    {
      "cell_type": "markdown",
      "metadata": {
        "id": "ZzgjlLVP76fC"
      },
      "source": [
        "The Equation for Harmonic Potenital is\n",
        "\n",
        "\\begin{equation}\n",
        "-\\frac{\\hbar^2}{2m}\\frac{d^2 \\psi}{d x^2} + V(x)\\psi = E\\psi\n",
        "\\end{equation}\n",
        "\n",
        "### Dimensional Analysis\n",
        "\n",
        "Putting $ x = \\sqrt{\\frac{\\hbar}{m\\omega}}y$ and $\\mathcal{E} = \\frac{2E}{\\hbar\\omega}$ We get the dimessionless euqation\n",
        "\n",
        "\n",
        "Natural lenghth scale = $\\sqrt{\\frac{\\hbar}{m\\omega}}$\n",
        "Natural Energy Scale = $\\frac{\\hbar \\omega}{2}$"
      ]
    },
    {
      "cell_type": "markdown",
      "metadata": {
        "id": "1P_gdZ2W6aG4"
      },
      "source": [
        "\\begin{equation}\n",
        "\\frac{d^2  \\phi}{dy^2} + k(y)\\phi = 0\n",
        "\\end{equation}\n",
        "\n",
        "Where $$k(y) = \\mathcal{E}-y^2$$"
      ]
    },
    {
      "cell_type": "markdown",
      "metadata": {
        "id": "_nEDSjOz4PBs"
      },
      "source": [
        "### The Algorithm\n",
        "\\begin{equation}\n",
        "\\phi_{n+1} = \\frac{1}{1+\\frac{h^2}{12}k_{n+1}}\\left(2\\phi_n\\left(1 - \\frac{5h^2}{12}k_n\\right) - \\phi_{n-1}\\left(1+\\frac{h^2}{12}k_{n-1}\\right)\\right)\n",
        "\\end{equation}"
      ]
    },
    {
      "cell_type": "markdown",
      "metadata": {
        "id": "kFE7oUvD6Wby"
      },
      "source": [
        "## When you know the eigenvalue\n",
        "\n",
        "The we know the eigenvalue to be $e$."
      ]
    },
    {
      "cell_type": "code",
      "metadata": {
        "id": "G-5wsu5V6WEQ"
      },
      "source": [
        "#the k funciton\n",
        "\n",
        "n = 1 #nth excited state\n",
        "e = 2*n+1\n",
        "\n",
        "def k(y):\n",
        "    return e-y**2\n",
        "\n",
        "#definig the range\n",
        "y0 = -6\n",
        "yf = 6\n",
        "\n",
        "N = 500 #number of lattice point\n",
        "h = (yf-y0)/N\n",
        "\n",
        "#intial conditions\n",
        "phi0 = 0\n",
        "y1 = y0+h\n",
        "y2 = y1+h\n",
        "phi1 = 1e-8\n",
        "\n",
        "#lists to store data\n",
        "ys = [y0,y1]\n",
        "phis = [phi0,phi1]\n",
        "\n",
        "#the algorithm\n",
        "for step in range(N):\n",
        "    phi2 = (2*phi1*(1-(5*h**2/12)*k(y1))-phi0*(1+h**2*k(y0)/12))/(1+h**2*k(y2)/12)\n",
        "\n",
        "    phis.append(phi2)\n",
        "    ys.append(y2)\n",
        "\n",
        "    phi0 = phi1\n",
        "    phi1 = phi2\n",
        "\n",
        "    y0 = y1\n",
        "    y1 = y2\n",
        "    y2 += h"
      ],
      "execution_count": null,
      "outputs": []
    },
    {
      "cell_type": "code",
      "metadata": {
        "colab": {
          "base_uri": "https://localhost:8080/",
          "height": 291
        },
        "id": "S_g8bsCB6Jjq",
        "outputId": "6c083659-73dc-42d7-d81f-e8f42334497c"
      },
      "source": [
        "plt.plot(ys,phis)\n",
        "plt.xlabel('y')\n",
        "plt.ylabel(r'$\\phi$')\n",
        "plt.title('Harmonic Oscillator-EigenStates');"
      ],
      "execution_count": null,
      "outputs": [
        {
          "output_type": "display_data",
          "data": {
            "image/png": "[encoded data removed]",
            "text/plain": [
              "<Figure size 432x288 with 1 Axes>"
            ]
          },
          "metadata": {
            "needs_background": "light"
          }
        }
      ]
    },
    {
      "cell_type": "code",
      "metadata": {
        "id": "L-h9KHxg_ZFS"
      },
      "source": [
        "def bisection(f,start,end):\n",
        "    tol = 1e-4\n",
        "    max_iter = 100\n",
        "    count = 0\n",
        "    if f(start)*f(end)>0:\n",
        "        return None\n",
        "    else:\n",
        "        while count<max_iter and abs(end-start)>tol:\n",
        "            mid = (start+end)/2\n",
        "            if f(start)*f(mid)<0:\n",
        "                end = mid\n",
        "            else:\n",
        "                start = mid\n",
        "        return mid"
      ],
      "execution_count": null,
      "outputs": []
    },
    {
      "cell_type": "code",
      "metadata": {
        "colab": {
          "base_uri": "https://localhost:8080/"
        },
        "id": "ot0EFoXtSYO_",
        "outputId": "7173bceb-18e4-4304-e9d2-826315acdbab"
      },
      "source": [
        "def g(x):\n",
        "    return x**2 -2\n",
        "\n",
        "bisection(g,0,2)"
      ],
      "execution_count": null,
      "outputs": [
        {
          "output_type": "execute_result",
          "data": {
            "text/plain": [
              "1.41424560546875"
            ]
          },
          "metadata": {},
          "execution_count": 8
        }
      ]
    },
    {
      "cell_type": "code",
      "metadata": {
        "id": "lwQdb-Da_l8N"
      },
      "source": [
        "def eigen_states(n, space):\n",
        "    n = 1 #nth excited state\n",
        "    e = 2*n+1\n",
        "\n",
        "    global k\n",
        "\n",
        "    def k(y):\n",
        "        return e-y**2\n",
        "\n",
        "    #definig the range\n",
        "    y0 = space[0]\n",
        "    yf = space[1]\n",
        "\n",
        "    # N = 500 #number of lattice point\n",
        "    h = (yf-y0)/N\n",
        "\n",
        "    #intial conditions\n",
        "    phi0 = 0\n",
        "    y1 = y0+h\n",
        "    y2 = y1+h\n",
        "    phi1 = 1e-8\n",
        "\n",
        "    #lists to store data\n",
        "    ys = [y0,y1]\n",
        "    phis = [phi0,phi1]\n",
        "\n",
        "    #the algorithm\n",
        "    for step in range(N):\n",
        "        phi2 = (2*phi1*(1-(5*h**2/12)*k(y1))-phi0*(1+h**2*k(y0)/12))/(1+h**2*k(y2)/12)\n",
        "\n",
        "        phis.append(phi2)\n",
        "        ys.append(y2)\n",
        "\n",
        "        phi0 = phi1\n",
        "        phi1 = phi2\n",
        "\n",
        "        y0 = y1\n",
        "        y1 = y2\n",
        "        y2 += h\n",
        "\n",
        "    return np.array(ys),np.array(phis)"
      ],
      "execution_count": null,
      "outputs": []
    },
    {
      "cell_type": "code",
      "metadata": {
        "colab": {
          "base_uri": "https://localhost:8080/",
          "height": 291
        },
        "id": "aVRxRYhz_qh5",
        "outputId": "b82fa821-9384-4d67-97e2-cd3b297126a4"
      },
      "source": [
        "ys_left, phi_left = eigen_states(3,(-6,1))\n",
        "ys_right,phi_right = eigen_states(3,(6,1))\n",
        "\n",
        "\n",
        "#forced match\n",
        "phi_right = phi_right*phi_left[-1]/phi_right[-1]\n",
        "\n",
        "plt.plot(ys_right,phi_right,label='Right')\n",
        "plt.plot(ys_left,phi_left,label='Left')\n",
        "plt.xlabel('y')\n",
        "plt.ylabel(r'$\\phi$')\n",
        "plt.legend();\n",
        "plt.title('Harmonic Oscillator-EigenStates');"
      ],
      "execution_count": null,
      "outputs": [
        {
          "output_type": "display_data",
          "data": {
            "image/png": "[encoded data removed]",
            "text/plain": [
              "<Figure size 432x288 with 1 Axes>"
            ]
          },
          "metadata": {
            "needs_background": "light"
          }
        }
      ]
    },
    {
      "cell_type": "markdown",
      "metadata": {
        "id": "f10iCfrAZG--"
      },
      "source": [
        "## When Eigen Values are unknown"
      ]
    },
    {
      "cell_type": "code",
      "metadata": {
        "id": "aPAVL0kQB6_9"
      },
      "source": [
        "def eigen_states2(e,space):\n",
        "\n",
        "    def k(x):\n",
        "        return e-x*x\n",
        "\n",
        "    y0 = space[0]\n",
        "    yf = space[1]\n",
        "\n",
        "    # N = 1000\n",
        "    global dy\n",
        "    dy = 0.01\n",
        "\n",
        "    if y0>yf:\n",
        "        dy *= -1\n",
        "\n",
        "    ys = np.arange(y0,yf,dy)\n",
        "    N = len(ys)\n",
        "    # print(N)\n",
        "    ks = k(ys)\n",
        "    phis= np.zeros(N)\n",
        "    phis[1] = 1e-8\n",
        "\n",
        "    for n in range(1,N-1):\n",
        "        phis[n+1] = (1/(1+dy**2*ks[n+1]/12))*(2*phis[n]*(1-5*dy**2*ks[n]/12)-phis[n-1]*(1+dy**2*ks[n-1]/12))\n",
        "\n",
        "    return ys,phis\n"
      ],
      "execution_count": null,
      "outputs": []
    },
    {
      "cell_type": "code",
      "metadata": {
        "colab": {
          "base_uri": "https://localhost:8080/",
          "height": 291
        },
        "id": "rvKeSiBIEAtN",
        "outputId": "7eafc7ba-2fb2-4754-95b7-fd0bc3c0d749"
      },
      "source": [
        "e = 3\n",
        "tp = bisection(k,0,6)\n",
        "\n",
        "ys_left, phi_left = eigen_states2(3,(-6,tp))\n",
        "ys_right,phi_right = eigen_states2(3,(6,tp))\n",
        "\n",
        "#forced match\n",
        "phi_right = phi_right*phi_left[-1]/phi_right[-1]\n",
        "\n",
        "plt.plot(ys_right,phi_right,label='Right')\n",
        "plt.plot(ys_left,phi_left,label='Left')\n",
        "plt.xlabel('y')\n",
        "plt.ylabel(r'$\\phi$')\n",
        "plt.legend();\n",
        "plt.title('Harmonic Oscillator-EigenStates');"
      ],
      "execution_count": null,
      "outputs": [
        {
          "output_type": "display_data",
          "data": {
            "image/png": "[encoded data removed]",
            "text/plain": [
              "<Figure size 432x288 with 1 Axes>"
            ]
          },
          "metadata": {
            "needs_background": "light"
          }
        }
      ]
    },
    {
      "cell_type": "markdown",
      "metadata": {
        "id": "9XMeHwOWevm_"
      },
      "source": [
        "### Calculating the eigen values"
      ]
    },
    {
      "cell_type": "markdown",
      "metadata": {
        "id": "aSPukaCDgCuT"
      },
      "source": [
        "If we give the function any wrong eigen value, we see a little kink there in the graph showing that the first derivative is not continioues at turning point, so we can use this to find the right eigen value. \n",
        "\n",
        "We need to find a value of e such that the first derivative from both sides is zero ie this function is zero.\n",
        "\n",
        "\\begin{equation}\n",
        "f(e) = \\frac{\\phi_R(t_p-h)-\\phi_L(t_p-h)}{\\phi_L(t_p)}\n",
        "\\end{equation}\n",
        "\n",
        "Where $t_p$ is the turning point."
      ]
    },
    {
      "cell_type": "code",
      "metadata": {
        "id": "WyQHvL9IEK3i"
      },
      "source": [
        "def f(e):\n",
        "    def k(x):\n",
        "        return e-x**2\n",
        "\n",
        "    tp = bisection(k,0,6)\n",
        "\n",
        "    ys_left, phi_left = eigen_states2(e,(-6,tp))\n",
        "    ys_right,phi_right = eigen_states2(e,(6,tp-dy))\n",
        "\n",
        "    #forced match\n",
        "    phi_right = phi_right*phi_left[-1]/phi_right[-2]\n",
        "    \n",
        "    return (phi_right[-1]-phi_left[-2])/phi_left[-1]\n"
      ],
      "execution_count": null,
      "outputs": []
    },
    {
      "cell_type": "code",
      "metadata": {
        "id": "VmJs8ToyFF7B"
      },
      "source": [
        "def change_sign(f,seed):\n",
        "    ds = 0.01\n",
        "    s = seed+ds\n",
        "    max_iter = 1000\n",
        "    iter = 0\n",
        "    while f(s)*f(seed)>=0 and iter<max_iter:\n",
        "        s = s+ds\n",
        "    return s"
      ],
      "execution_count": null,
      "outputs": []
    },
    {
      "cell_type": "code",
      "metadata": {
        "colab": {
          "base_uri": "https://localhost:8080/"
        },
        "id": "5ef3jRnCGu3n",
        "outputId": "a8fe9dcc-4616-4dc9-fa7a-7325e91bb906"
      },
      "source": [
        "Es = []\n",
        "dE = 0.1\n",
        "k1 = dE\n",
        "k2 = change_sign(f,dE)\n",
        "for _ in range(10):\n",
        "    E = bisection(f,k1,k2)\n",
        "    if abs(f(E))<0.01:\n",
        "        Es.append(E)\n",
        "    k1 = k2\n",
        "    k2 = change_sign(f,k1+dE)\n",
        "Es"
      ],
      "execution_count": null,
      "outputs": [
        {
          "output_type": "execute_result",
          "data": {
            "text/plain": [
              "[1.0020574951171881,\n",
              " 3.0022491455077924,\n",
              " 5.002451782226504,\n",
              " 7.002508239745997,\n",
              " 9.002553100585802]"
            ]
          },
          "metadata": {},
          "execution_count": 23
        }
      ]
    },
    {
      "cell_type": "code",
      "metadata": {
        "colab": {
          "base_uri": "https://localhost:8080/"
        },
        "id": "khceqUA2Zl_Y",
        "outputId": "1940e606-1f49-454f-8a9f-1a26a666fc77"
      },
      "source": [
        "f( 1.345351562500001)"
      ],
      "execution_count": null,
      "outputs": [
        {
          "output_type": "execute_result",
          "data": {
            "text/plain": [
              "-1.7666457754179403"
            ]
          },
          "metadata": {},
          "execution_count": 24
        }
      ]
    },
    {
      "cell_type": "code",
      "metadata": {
        "colab": {
          "base_uri": "https://localhost:8080/",
          "height": 291
        },
        "id": "XK1CFl_fM95u",
        "outputId": "350b86c9-e052-448d-e3a3-e290fb052e6d"
      },
      "source": [
        "e = Es[4]\n",
        "\n",
        "def k(x):\n",
        "    return e-x**2\n",
        "\n",
        "tp = bisection(k,0,6)\n",
        "\n",
        "ys_left, phi_left = eigen_states2(e,(-6,tp))\n",
        "ys_right,phi_right = eigen_states2(e,(6,tp))\n",
        "\n",
        "#forced match\n",
        "phi_right = phi_right*phi_left[-1]/phi_right[-1]\n",
        "\n",
        "plt.plot(ys_right,phi_right,label='Right')\n",
        "plt.plot(ys_left,phi_left,label='Left')\n",
        "plt.xlabel('y')\n",
        "plt.ylabel(r'$\\phi$')\n",
        "plt.legend();\n",
        "plt.title('Harmonic Oscillator-EigenStates');"
      ],
      "execution_count": null,
      "outputs": [
        {
          "output_type": "display_data",
          "data": {
            "image/png": "[encoded data removed]",
            "text/plain": [
              "<Figure size 432x288 with 1 Axes>"
            ]
          },
          "metadata": {
            "needs_background": "light"
          }
        }
      ]
    },
    {
      "cell_type": "markdown",
      "metadata": {
        "id": "dQhoTJw7JocQ"
      },
      "source": [
        "# Radial Wave Function for Hydrogen Atom\n"
      ]
    },
    {
      "cell_type": "markdown",
      "metadata": {
        "id": "w-WpZRNSKZns"
      },
      "source": [
        "\\begin{equation}\n",
        "-\\frac{\\hbar^2}{2\\mu}\\frac{d^2u}{dr^2} + \\left(-\\frac{e^2}{4\\piϵ_0 r}+\\frac{\\hbar^2}{2\\mu}\\frac{l(l+1)}{r^2}\\right)u = Eu\n",
        "\\end{equation}\n",
        "\n",
        "or \n",
        "\n",
        "\\begin{equation}\n",
        "-\\frac{\\hbar^2}{2\\mu}\\frac{d^2u}{dr^2} + \\left(-\\frac{e^2}{4\\piϵ_0 r}+\\frac{\\hbar^2}{2\\mu}\\frac{l(l+1)}{r^2} -E\\right)u = 0\n",
        "\\end{equation}\n",
        "\n",
        "Let $E = \\frac{E_0}{n^2}$ where $E_0$ is the _Ground State energy_ and $n$ is prinicpal quantum number."
      ]
    },
    {
      "cell_type": "markdown",
      "metadata": {
        "id": "gAbr1Gy7eMcx"
      },
      "source": [
        "Quantity $\\frac{h^2}{2m}$ has dimessions of $Jm^2$ and $\\frac{e^2}{4\\piϵ_0}$ has dimensions of $Jm$, so if we devide these two we should get our natural length salce\n",
        "\n",
        "$$a = \\frac{2\\pi\\epsilon_0 \\hbar^2}{\\mu e^2}$$\n",
        "\n",
        "let $r = \\rho a$ and substituting this in the equations we get\n",
        "\n",
        "\\begin{equation}\n",
        "-\\frac{\\hbar^2}{2\\mu a^2}\\frac{d^2u}{d\\rho^2} + \\left(-\\frac{e^2}{4\\piϵ_0 a}\n",
        "\\frac{1}{\\rho}+\\frac{\\hbar^2}{2\\mu a^2}\\frac{l(l+1)}{\\rho^2} -E\\right)u = 0\n",
        "\\end{equation}\n",
        "\n",
        "Deviding the equation by $-\\frac{h^2}{2\\mu a^2}$\n",
        "\n",
        "\\begin{equation}\n",
        "\\frac{d^2u}{d\\rho^2} + \\left(\\frac{e^2}{4\\piϵ_0 }\\frac{2\\mu a}{\\hbar^2}\n",
        "\\frac{1}{\\rho}-\\frac{l(l+1)}{\\rho^2} +\\frac{E}{\\hbar^2/2\\mu a}\\right)u = 0\n",
        "\\end{equation}"
      ]
    },
    {
      "cell_type": "markdown",
      "metadata": {
        "id": "V-jBrezDgI3z"
      },
      "source": [
        "> \\begin{equation}\n",
        "\\frac{d^2u}{d\\rho^2} + \\left(\n",
        "\\frac{1}{\\rho}-\\frac{l(l+1)}{\\rho^2} + \\mathcal{E}\\right)u = 0\n",
        "\\end{equation}\n",
        "\n",
        "Where $\\mathcal{E} = \\frac{E}{2\\mu a^2/\\hbar^2}$ is dimessionless energy\n",
        "\n",
        "let $k(\\rho,l) = \\frac{1}{\\rho}-\\frac{l(l+1)}{\\rho^2} + \\mathcal{E}$\n",
        "\n",
        "\\begin{equation}\n",
        "\\frac{d^2u}{d\\rho^2} + ku = 0\n",
        "\\end{equation}"
      ]
    },
    {
      "cell_type": "code",
      "metadata": {
        "id": "xxx0RYv4d2c8"
      },
      "source": [
        "h = 1.05e-34\n",
        "mu = 9.1e-31\n",
        "e = 1.6e-19\n",
        "E0 = -13.6*e\n",
        "epsilon = 8.85e-12\n",
        "a = 2*math.pi*epsilon*h**2/(mu*e**2)\n",
        "e0 = E0*2*mu*a**2/h**2"
      ],
      "execution_count": null,
      "outputs": []
    },
    {
      "cell_type": "code",
      "metadata": {
        "id": "MTQjtS8GiTSf"
      },
      "source": [
        "rho_0 = 1\n",
        "def k(rho,l,e):\n",
        "    return 1/rho - l*(l+1)/rho**2 + e"
      ],
      "execution_count": null,
      "outputs": []
    },
    {
      "cell_type": "code",
      "metadata": {
        "id": "pHeW5gjmJv2F"
      },
      "source": [
        "def R(e,l):\n",
        "        \n",
        "    #definging the space\n",
        "    rho0 = 0.01\n",
        "    rho_f = 18\n",
        "    h = 0.01\n",
        "\n",
        "    rhos = np.arange(rho0,rho_f,h)\n",
        "    # print(rhos)\n",
        "    N = len(rhos) #number of steps\n",
        "    ks  = np.array([k(i,e,l) for i in rhos])\n",
        "\n",
        "    us = np.zeros(N)\n",
        "    us[0] = 0\n",
        "    us[1] = 0.01\n",
        "\n",
        "    # print(ks)\n",
        "\n",
        "    for n in range(1,N-1):\n",
        "        us[n+1] = (1/(1+h**2*ks[n+1]/12))*(2*us[n]*(1-5*h**2*ks[n]/12)-us[n-1]*(1+h**2*ks[n-1]/12))\n",
        "\n",
        "    return rhos, us/rhos"
      ],
      "execution_count": null,
      "outputs": []
    },
    {
      "cell_type": "markdown",
      "metadata": {
        "id": "1Ixqp8ebiQMQ"
      },
      "source": [
        "Let's Assume we know the eigen values\n",
        "\n",
        "$$\\mathcal{E}_n = \\frac{\\mathcal{E}_0}{n^2}$$\n",
        "\n",
        "Where $\\mathcal{E}_0$ is the ground state energy"
      ]
    },
    {
      "cell_type": "code",
      "metadata": {
        "id": "d6QI-Q20WlD1"
      },
      "source": [
        "def Rnl(n,l):\n",
        "    e = e0/n**2\n",
        "\n",
        "    return R(e,l)"
      ],
      "execution_count": null,
      "outputs": []
    },
    {
      "cell_type": "code",
      "metadata": {
        "colab": {
          "base_uri": "https://localhost:8080/",
          "height": 312
        },
        "id": "c-ExmdKNW1fH",
        "outputId": "812075ee-ca48-4827-bb9c-f0c07cef59bf"
      },
      "source": [
        "x,y = Rnl(1,1)\n",
        "plt.plot(x,y);\n",
        "plt.title(r'Hydrogen atom $R_{10}$')\n",
        "plt.ylabel('R')\n",
        "plt.xlabel(r'$\\rho$')"
      ],
      "execution_count": null,
      "outputs": [
        {
          "output_type": "execute_result",
          "data": {
            "text/plain": [
              "Text(0.5, 0, '$\\\\rho$')"
            ]
          },
          "metadata": {},
          "execution_count": 30
        },
        {
          "output_type": "display_data",
          "data": {
            "image/png": "[encoded data removed]",
            "text/plain": [
              "<Figure size 432x288 with 1 Axes>"
            ]
          },
          "metadata": {
            "needs_background": "light"
          }
        }
      ]
    },
    {
      "cell_type": "code",
      "metadata": {
        "id": "ARp0kYaPNETN"
      },
      "source": [
        ""
      ],
      "execution_count": null,
      "outputs": []
    }
  ]
}