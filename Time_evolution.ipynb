{
  "nbformat": 4,
  "nbformat_minor": 0,
  "metadata": {
    "orig_nbformat": 4,
    "language_info": {
      "name": "python",
      "version": "3.8.10",
      "mimetype": "text/x-python",
      "codemirror_mode": {
        "name": "ipython",
        "version": 3
      },
      "pygments_lexer": "ipython3",
      "nbconvert_exporter": "python",
      "file_extension": ".py"
    },
    "kernelspec": {
      "name": "python3",
      "display_name": "Python 3.8.10 64-bit"
    },
    "interpreter": {
      "hash": "916dbcbb3f70747c44a77c7bcd40155683ae19c65e1c03b4aa3499c5328201f1"
    },
    "colab": {
      "name": "Time_evolution.ipynb",
      "provenance": [],
      "collapsed_sections": [],
      "include_colab_link": true
    }
  },
  "cells": [
    {
      "cell_type": "markdown",
      "metadata": {
        "id": "view-in-github",
        "colab_type": "text"
      },
      "source": [
        "<a href=\"https://colab.research.google.com/github/iashyam/Computation-QM/blob/main/Time_evolution.ipynb\" target=\"_parent\"><img src=\"https://colab.research.google.com/assets/colab-badge.svg\" alt=\"Open In Colab\"/></a>"
      ]
    },
    {
      "cell_type": "markdown",
      "metadata": {
        "id": "BR3FPjUcnKzN"
      },
      "source": [
        ""
      ]
    },
    {
      "cell_type": "code",
      "metadata": {
        "id": "nbEG5ytJnKzh"
      },
      "source": [
        "import numpy as np \n",
        "import matplotlib.pyplot as plt \n",
        "import numpy.linalg as lin \n",
        "import math\n",
        "from matplotlib.animation import FuncAnimation\n",
        "plt.style.use('seaborn-whitegrid')"
      ],
      "execution_count": null,
      "outputs": []
    },
    {
      "cell_type": "markdown",
      "metadata": {
        "id": "tCmXZ6HgygYx"
      },
      "source": [
        "# __Problem__:\n",
        "A beam of electrons with energy $5 eV$ approaches a potential barrier with height $10eV$ and width $1nm$ Calculate the transmission cofficient. Conpare it with the theoritical value."
      ]
    },
    {
      "cell_type": "markdown",
      "metadata": {
        "id": "4WzMjOTjzQtb"
      },
      "source": [
        "## Step1: Nondimessionlisation\n",
        "\n",
        "We the width of the potential barrier as the natural length scale so:\n",
        "\n",
        "$l_0 = 1\\times 10^{-9} m$\n",
        "\n",
        "Then we have the natural energy salce as:\n",
        "\n",
        "$$\\varepsilon  = \\frac{\\hbar^2}{2ml_0^2}$$\n",
        "\n",
        "So the scrodinger equation becomes \n",
        "\\begin{equation}\n",
        "\\iota \\frac{\\partial \\Phi}{\\partial \\tau} = -\\frac{\\hbar^2}{2m}\\frac{\\partial^2 \\Phi}{\\partial y^2} + V(x)\\Phi\n",
        "\\end{equation}\n",
        "\n",
        "With potential as \n",
        "\\begin{equation}\n",
        "V(x) =\n",
        "\\begin{cases}\n",
        " V_o & |x| < a \\\\\n",
        " 0 & \\text{elsewhere}\n",
        "\\end{cases}\n",
        "\\end{equation}"
      ]
    },
    {
      "cell_type": "markdown",
      "metadata": {
        "id": "g67JSdJtmdvf"
      },
      "source": [
        "## Time Evolution\n",
        "\n",
        "For a given state $\\Phi_0(x,0)$ we can calculate the wave funciton at any time\n",
        "\n",
        "\\begin{equation}\n",
        "\\Phi(x,t) = \\sum_{n = 0}^{\\infty}C_n \\phi_n e^{-\\iota E_n t/\\hbar}\n",
        "\\end{equation}\n",
        "\n",
        "Where \n",
        "\n",
        "\\begin{equation}\n",
        "C_n = \\sum_{n = 0}^{\\infty}\\Phi(x,0) \\phi_n \n",
        "\\end{equation}"
      ]
    },
    {
      "cell_type": "code",
      "metadata": {
        "colab": {
          "base_uri": "https://localhost:8080/"
        },
        "id": "VQZhPOsNnKzy",
        "outputId": "6cc53706-3b3d-4448-d763-6873c2d00eb7"
      },
      "source": [
        "h = 1.05e-34\n",
        "m = 9.1e-31\n",
        "l0 = 1e-9\n",
        "E = h**2/(2*m*(l0**2))\n",
        "eV = 1.6e-19\n",
        "V0 =  5*eV/E\n",
        "p0 = h/l0\n",
        "E0 = 10*eV/E\n",
        "P = np.sqrt(2*m*E0)\n",
        "# po = P/p0\n",
        "po"
      ],
      "execution_count": null,
      "outputs": [
        {
          "output_type": "execute_result",
          "data": {
            "text/plain": [
              "14.536216402543934"
            ]
          },
          "metadata": {},
          "execution_count": 138
        }
      ]
    },
    {
      "cell_type": "code",
      "metadata": {
        "id": "VFClTorRnKz9"
      },
      "source": [
        "N = 500 #number of lattice points\n",
        "l = 30\n",
        "ys = np.linspace(-l,l,2*N) #descretising the space\n",
        "delta = ys[1]-ys[0]"
      ],
      "execution_count": null,
      "outputs": []
    },
    {
      "cell_type": "code",
      "metadata": {
        "id": "dJcd62m6nKz_"
      },
      "source": [
        "#potential function\n",
        "def V(x):\n",
        "    return  V0 if  x>-0.5 and x<0.5 else 0\n",
        "\n",
        "#kroneker delta function\n",
        "def k(i,j):\n",
        "    return 1 if i==j else 0\n",
        "\n",
        "#hemiltonian function\n",
        "def Hemiltonian(i,j):\n",
        "    return -(1/delta**2)*(k(i+1,j)+k(i-1,j)-2*k(i,j)) + V(i*delta)*k(i,j)"
      ],
      "execution_count": null,
      "outputs": []
    },
    {
      "cell_type": "code",
      "metadata": {
        "id": "meh1DMT2nK0C"
      },
      "source": [
        "#hamiltonian matrix\n",
        "H = np.array([[Hemiltonian(i,j) for i in range(-N,N)] for j in range(-N,N)])\n",
        "eig_values, eig_functions = lin.eig(H)\n",
        "idx = eig_values.argsort()\n",
        "eig_values = eig_values[idx]\n",
        "eig_functions = eig_functions[:,idx]"
      ],
      "execution_count": null,
      "outputs": []
    },
    {
      "cell_type": "code",
      "metadata": {
        "colab": {
          "base_uri": "https://localhost:8080/",
          "height": 279
        },
        "id": "wrGh7hRbnK0G",
        "outputId": "abe19961-c787-4cba-d541-5eb727ae7af3"
      },
      "source": [
        "psi0 = eig_functions[:,1]\n",
        "plt.plot(ys,psi0)"
      ],
      "execution_count": null,
      "outputs": [
        {
          "output_type": "execute_result",
          "data": {
            "text/plain": [
              "[<matplotlib.lines.Line2D at 0x7f0bd69aec10>]"
            ]
          },
          "metadata": {},
          "execution_count": 142
        },
        {
          "output_type": "display_data",
          "data": {
            "image/png": "[encoded data removed]",
            "text/plain": [
              "<Figure size 432x288 with 1 Axes>"
            ]
          },
          "metadata": {}
        }
      ]
    },
    {
      "cell_type": "code",
      "metadata": {
        "id": "z0XpBBDPnK0J"
      },
      "source": [
        "a = 1 #intial spread(uncertainily) in natural lenght scale\n",
        "b = -10 #intial <x> center of the gaussian\n",
        "#intial wave function\n",
        "def Psi0(y):\n",
        "    return 1/pow(np.pi*(a**2),0.25)*np.exp(-((y-b)**2)/(2.0*a**2) - 1j*po*y)"
      ],
      "execution_count": null,
      "outputs": []
    },
    {
      "cell_type": "code",
      "metadata": {
        "colab": {
          "base_uri": "https://localhost:8080/",
          "height": 279
        },
        "id": "y6piuNR8nK0N",
        "outputId": "51076ef3-1241-4835-e557-81d4d6d614c2"
      },
      "source": [
        "#time evolution\n",
        "def Psi(t):\n",
        "    sum = np.zeros((2*N), dtype='complex')\n",
        "    for i in range(len(eig_values)):\n",
        "        cn = np.vdot(Psi0(ys),eig_functions[:,i])\n",
        "        sum += cn*np.exp(eig_values[i]*1j*t)*eig_functions[:,i]\n",
        "    return sum\n",
        "\n",
        "def prob(t):\n",
        "    return abs(Psi(t))**2\n",
        "\n",
        "plt.plot(ys, prob(2.8))"
      ],
      "execution_count": null,
      "outputs": [
        {
          "output_type": "execute_result",
          "data": {
            "text/plain": [
              "[<matplotlib.lines.Line2D at 0x7f0bd6f1b510>]"
            ]
          },
          "metadata": {},
          "execution_count": 150
        },
        {
          "output_type": "display_data",
          "data": {
            "image/png": "[encoded data removed]",
            "text/plain": [
              "<Figure size 432x288 with 1 Axes>"
            ]
          },
          "metadata": {}
        }
      ]
    },
    {
      "cell_type": "code",
      "metadata": {
        "colab": {
          "base_uri": "https://localhost:8080/",
          "height": 266
        },
        "id": "mv-vyGt-nK0S",
        "outputId": "fd771521-ced2-4213-d20f-95f567caab9f"
      },
      "source": [
        "fig = plt.figure()\n",
        "ax = plt.axes(ylim=(0,0.6), xlim=(-20,20))\n",
        "\n",
        "plot, = ax.plot([],[])\n",
        "\n",
        "def init():\n",
        "    plot.set_data(ys, prob(0))\n",
        "    return plot,\n",
        "\n",
        "def animate(i):\n",
        "    plot.set_data(ys,prob(i*0.005))\n",
        "    return plot,\n",
        "\n",
        "anim = FuncAnimation(fig, animate, init_func = init,frames = 150, interval = 60, blit = True)\n",
        "anim.save('time_evoluatoin.mp4', writer = 'ffmpeg', fps = 60)"
      ],
      "execution_count": null,
      "outputs": [
        {
          "output_type": "display_data",
          "data": {
            "image/png": "[encoded data removed]",
            "text/plain": [
              "<Figure size 432x288 with 1 Axes>"
            ]
          },
          "metadata": {}
        }
      ]
    },
    {
      "cell_type": "code",
      "metadata": {
        "colab": {
          "base_uri": "https://localhost:8080/"
        },
        "id": "N5P8eOJonK0V",
        "outputId": "6fe38bbd-7602-4b6f-e316-dade1d64d706"
      },
      "source": [
        "T = 0\n",
        "R = 0\n",
        "Probs = prob(2.8)\n",
        "Probs_left = Probs[:len(ys)//2]\n",
        "Probs_right = Probs[len(ys)//2:]\n",
        "T = 2*sum(Probs_right)/l\n",
        "R = 2*sum(Probs_left)/l\n",
        "print(f\"T = {T}\")\n",
        "print(f\"R = {R} \")\n",
        "print(f\"{T + R }\")"
      ],
      "execution_count": null,
      "outputs": [
        {
          "output_type": "stream",
          "name": "stdout",
          "text": [
            "T = 0.9117204360546164\n",
            "R = 0.19827956394539106 \n",
            "1.1100000000000074\n"
          ]
        }
      ]
    },
    {
      "cell_type": "code",
      "metadata": {
        "id": "eQnygLifpMVv"
      },
      "source": [
        ""
      ],
      "execution_count": null,
      "outputs": []
    },
    {
      "cell_type": "code",
      "metadata": {
        "id": "74hKD0LSt6bn"
      },
      "source": [
        "def Tra(E,V):\n",
        "    t = (1+V**2/4*E*(E+V))*(math.sin((2*0.5/h)*math.sqrt(2*m*(E+V))))**2\n",
        "    return 1/t"
      ],
      "execution_count": null,
      "outputs": []
    },
    {
      "cell_type": "code",
      "metadata": {
        "colab": {
          "base_uri": "https://localhost:8080/"
        },
        "id": "eDk5UuYfk_pt",
        "outputId": "c520e702-b026-4c51-bc41-a52c0da7d735"
      },
      "source": [
        "Tra(10,5)+T"
      ],
      "execution_count": null,
      "outputs": [
        {
          "output_type": "execute_result",
          "data": {
            "text/plain": [
              "1.0316656515457947"
            ]
          },
          "metadata": {},
          "execution_count": 157
        }
      ]
    }
  ]
}